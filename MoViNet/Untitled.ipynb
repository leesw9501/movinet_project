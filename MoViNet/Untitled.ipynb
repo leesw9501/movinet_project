{
 "cells": [
  {
   "cell_type": "code",
   "execution_count": 7,
   "id": "69b094da",
   "metadata": {},
   "outputs": [
    {
     "name": "stderr",
     "output_type": "stream",
     "text": [
      "하위 디렉터리 또는 파일 -p이(가) 이미 있습니다.\n",
      "다음 내용 진행 중 오류 발생: -p.\n",
      "하위 디렉터리 또는 파일 video_data이(가) 이미 있습니다.\n",
      "다음 내용 진행 중 오류 발생: video_data.\n",
      "하위 디렉터리 또는 파일 test_train_splits이(가) 이미 있습니다.\n",
      "다음 내용 진행 중 오류 발생: test_train_splits.\n",
      "'unrar'은(는) 내부 또는 외부 명령, 실행할 수 있는 프로그램, 또는\n",
      "배치 파일이 아닙니다.\n",
      "'rm'은(는) 내부 또는 외부 명령, 실행할 수 있는 프로그램, 또는\n",
      "배치 파일이 아닙니다.\n",
      "'unrar'은(는) 내부 또는 외부 명령, 실행할 수 있는 프로그램, 또는\n",
      "배치 파일이 아닙니다.\n",
      "'rm'은(는) 내부 또는 외부 명령, 실행할 수 있는 프로그램, 또는\n",
      "배치 파일이 아닙니다.\n",
      "'mv'은(는) 내부 또는 외부 명령, 실행할 수 있는 프로그램, 또는\n",
      "배치 파일이 아닙니다.\n",
      "'rm'은(는) 내부 또는 외부 명령, 실행할 수 있는 프로그램, 또는\n",
      "배치 파일이 아닙니다.\n"
     ]
    }
   ],
   "source": [
    "# Extract and organize video data..\n",
    "! mkdir -p video_data test_train_splits\n",
    "! unrar e test_train_splits.rar test_train_splits\n",
    "! rm test_train_splits.rar\n",
    "! unrar e hmdb51_org.rar \n",
    "! rm hmdb51_org.rar\n",
    "! mv *.rar video_data\n",
    "import os\n",
    "for files in os.listdir('video_data'):\n",
    "    foldername = files.split('.')[0]\n",
    "    os.system(\"mkdir -p video_data/\" + foldername)\n",
    "    os.system(\"unrar e video_data/\"+ files + \" video_data/\"+foldername)\n",
    "\n",
    "! rm video_data/*.rar"
   ]
  },
  {
   "cell_type": "code",
   "execution_count": 6,
   "id": "ceb9a326",
   "metadata": {},
   "outputs": [
    {
     "ename": "FileNotFoundError",
     "evalue": "Couldn't find any class folder in video_data/.",
     "output_type": "error",
     "traceback": [
      "\u001b[1;31m---------------------------------------------------------------------------\u001b[0m",
      "\u001b[1;31mFileNotFoundError\u001b[0m                         Traceback (most recent call last)",
      "\u001b[1;32m<ipython-input-6-22252e81d0c6>\u001b[0m in \u001b[0;36m<module>\u001b[1;34m\u001b[0m\n\u001b[0;32m     29\u001b[0m                                  T.CenterCrop((172, 172))])\n\u001b[0;32m     30\u001b[0m \u001b[1;33m\u001b[0m\u001b[0m\n\u001b[1;32m---> 31\u001b[1;33m hmdb51_train = torchvision.datasets.HMDB51('video_data/', 'test_train_splits/', num_frames,frame_rate=5,\n\u001b[0m\u001b[0;32m     32\u001b[0m                                                 \u001b[0mstep_between_clips\u001b[0m \u001b[1;33m=\u001b[0m \u001b[0mclip_steps\u001b[0m\u001b[1;33m,\u001b[0m \u001b[0mfold\u001b[0m\u001b[1;33m=\u001b[0m\u001b[1;36m1\u001b[0m\u001b[1;33m,\u001b[0m \u001b[0mtrain\u001b[0m\u001b[1;33m=\u001b[0m\u001b[1;32mTrue\u001b[0m\u001b[1;33m,\u001b[0m\u001b[1;33m\u001b[0m\u001b[1;33m\u001b[0m\u001b[0m\n\u001b[0;32m     33\u001b[0m                                                 transform=transform, num_workers=2)\n",
      "\u001b[1;32m~\\anaconda3\\envs\\tf24_gpu\\lib\\site-packages\\torchvision\\datasets\\hmdb51.py\u001b[0m in \u001b[0;36m__init__\u001b[1;34m(self, root, annotation_path, frames_per_clip, step_between_clips, frame_rate, fold, train, transform, _precomputed_metadata, num_workers, _video_width, _video_height, _video_min_dimension, _audio_samples)\u001b[0m\n\u001b[0;32m     62\u001b[0m \u001b[1;33m\u001b[0m\u001b[0m\n\u001b[0;32m     63\u001b[0m         \u001b[0mextensions\u001b[0m \u001b[1;33m=\u001b[0m \u001b[1;33m(\u001b[0m\u001b[1;34m'avi'\u001b[0m\u001b[1;33m,\u001b[0m\u001b[1;33m)\u001b[0m\u001b[1;33m\u001b[0m\u001b[1;33m\u001b[0m\u001b[0m\n\u001b[1;32m---> 64\u001b[1;33m         \u001b[0mself\u001b[0m\u001b[1;33m.\u001b[0m\u001b[0mclasses\u001b[0m\u001b[1;33m,\u001b[0m \u001b[0mclass_to_idx\u001b[0m \u001b[1;33m=\u001b[0m \u001b[0mfind_classes\u001b[0m\u001b[1;33m(\u001b[0m\u001b[0mself\u001b[0m\u001b[1;33m.\u001b[0m\u001b[0mroot\u001b[0m\u001b[1;33m)\u001b[0m\u001b[1;33m\u001b[0m\u001b[1;33m\u001b[0m\u001b[0m\n\u001b[0m\u001b[0;32m     65\u001b[0m         self.samples = make_dataset(\n\u001b[0;32m     66\u001b[0m             \u001b[0mself\u001b[0m\u001b[1;33m.\u001b[0m\u001b[0mroot\u001b[0m\u001b[1;33m,\u001b[0m\u001b[1;33m\u001b[0m\u001b[1;33m\u001b[0m\u001b[0m\n",
      "\u001b[1;32m~\\anaconda3\\envs\\tf24_gpu\\lib\\site-packages\\torchvision\\datasets\\folder.py\u001b[0m in \u001b[0;36mfind_classes\u001b[1;34m(directory)\u001b[0m\n\u001b[0;32m     40\u001b[0m     \u001b[0mclasses\u001b[0m \u001b[1;33m=\u001b[0m \u001b[0msorted\u001b[0m\u001b[1;33m(\u001b[0m\u001b[0mentry\u001b[0m\u001b[1;33m.\u001b[0m\u001b[0mname\u001b[0m \u001b[1;32mfor\u001b[0m \u001b[0mentry\u001b[0m \u001b[1;32min\u001b[0m \u001b[0mos\u001b[0m\u001b[1;33m.\u001b[0m\u001b[0mscandir\u001b[0m\u001b[1;33m(\u001b[0m\u001b[0mdirectory\u001b[0m\u001b[1;33m)\u001b[0m \u001b[1;32mif\u001b[0m \u001b[0mentry\u001b[0m\u001b[1;33m.\u001b[0m\u001b[0mis_dir\u001b[0m\u001b[1;33m(\u001b[0m\u001b[1;33m)\u001b[0m\u001b[1;33m)\u001b[0m\u001b[1;33m\u001b[0m\u001b[1;33m\u001b[0m\u001b[0m\n\u001b[0;32m     41\u001b[0m     \u001b[1;32mif\u001b[0m \u001b[1;32mnot\u001b[0m \u001b[0mclasses\u001b[0m\u001b[1;33m:\u001b[0m\u001b[1;33m\u001b[0m\u001b[1;33m\u001b[0m\u001b[0m\n\u001b[1;32m---> 42\u001b[1;33m         \u001b[1;32mraise\u001b[0m \u001b[0mFileNotFoundError\u001b[0m\u001b[1;33m(\u001b[0m\u001b[1;34mf\"Couldn't find any class folder in {directory}.\"\u001b[0m\u001b[1;33m)\u001b[0m\u001b[1;33m\u001b[0m\u001b[1;33m\u001b[0m\u001b[0m\n\u001b[0m\u001b[0;32m     43\u001b[0m \u001b[1;33m\u001b[0m\u001b[0m\n\u001b[0;32m     44\u001b[0m     \u001b[0mclass_to_idx\u001b[0m \u001b[1;33m=\u001b[0m \u001b[1;33m{\u001b[0m\u001b[0mcls_name\u001b[0m\u001b[1;33m:\u001b[0m \u001b[0mi\u001b[0m \u001b[1;32mfor\u001b[0m \u001b[0mi\u001b[0m\u001b[1;33m,\u001b[0m \u001b[0mcls_name\u001b[0m \u001b[1;32min\u001b[0m \u001b[0menumerate\u001b[0m\u001b[1;33m(\u001b[0m\u001b[0mclasses\u001b[0m\u001b[1;33m)\u001b[0m\u001b[1;33m}\u001b[0m\u001b[1;33m\u001b[0m\u001b[1;33m\u001b[0m\u001b[0m\n",
      "\u001b[1;31mFileNotFoundError\u001b[0m: Couldn't find any class folder in video_data/."
     ]
    }
   ],
   "source": [
    "import time\n",
    "import torchvision\n",
    "import torch.nn.functional as F\n",
    "import torchvision.transforms as transforms\n",
    "import torch.optim as optim\n",
    "from torch.utils.data import random_split, DataLoader\n",
    "import torch\n",
    "import transforms as T\n",
    "from movinets import MoViNet\n",
    "from movinets.config import _C\n",
    "\n",
    "torch.manual_seed(97)\n",
    "num_frames = 16 # 16\n",
    "clip_steps = 2\n",
    "Bs_Train = 16\n",
    "Bs_Test = 16\n",
    "\n",
    "transform = transforms.Compose([  \n",
    "                                                     \n",
    "                                 T.ToFloatTensorInZeroOne(),\n",
    "                                 T.Resize((200, 200)),\n",
    "                                 T.RandomHorizontalFlip(),\n",
    "                                 #T.Normalize(mean=[0.43216, 0.394666, 0.37645], std=[0.22803, 0.22145, 0.216989]),\n",
    "                                 T.RandomCrop((172, 172))])\n",
    "transform_test = transforms.Compose([                           \n",
    "                                 T.ToFloatTensorInZeroOne(),\n",
    "                                 T.Resize((200, 200)),\n",
    "                                 #T.Normalize(mean=[0.43216, 0.394666, 0.37645], std=[0.22803, 0.22145, 0.216989]),\n",
    "                                 T.CenterCrop((172, 172))])\n",
    "\n",
    "hmdb51_train = torchvision.datasets.HMDB51('video_data/', 'test_train_splits/', num_frames,frame_rate=5,\n",
    "                                                step_between_clips = clip_steps, fold=1, train=True,\n",
    "                                                transform=transform, num_workers=2)\n",
    "\n",
    "\n",
    "hmdb51_test = torchvision.datasets.HMDB51('video_data/', 'test_train_splits/', num_frames,frame_rate=5,\n",
    "                                                step_between_clips = clip_steps, fold=1, train=False,\n",
    "                                                transform=transform_test, num_workers=2)\n",
    "train_loader = DataLoader(hmdb51_train, batch_size=Bs_Train, shuffle=True)\n",
    "test_loader  = DataLoader(hmdb51_test, batch_size=Bs_Test, shuffle=False)"
   ]
  },
  {
   "cell_type": "code",
   "execution_count": 5,
   "id": "cbf3e081",
   "metadata": {},
   "outputs": [
    {
     "name": "stdout",
     "output_type": "stream",
     "text": [
      "Collecting fvcore\n",
      "  Downloading fvcore-0.1.5.post20211023.tar.gz (49 kB)\n",
      "Requirement already satisfied: numpy in c:\\users\\user001\\anaconda3\\envs\\tf24_gpu\\lib\\site-packages (from fvcore) (1.19.5)\n",
      "Collecting yacs>=0.1.6\n",
      "  Downloading yacs-0.1.8-py3-none-any.whl (14 kB)\n",
      "Requirement already satisfied: pyyaml>=5.1 in c:\\users\\user001\\anaconda3\\envs\\tf24_gpu\\lib\\site-packages (from fvcore) (5.4.1)\n",
      "Requirement already satisfied: tqdm in c:\\users\\user001\\anaconda3\\envs\\tf24_gpu\\lib\\site-packages (from fvcore) (4.62.0)\n",
      "Requirement already satisfied: termcolor>=1.1 in c:\\users\\user001\\anaconda3\\envs\\tf24_gpu\\lib\\site-packages (from fvcore) (1.1.0)\n",
      "Requirement already satisfied: Pillow in c:\\users\\user001\\anaconda3\\envs\\tf24_gpu\\lib\\site-packages (from fvcore) (8.3.1)\n",
      "Collecting tabulate\n",
      "  Downloading tabulate-0.8.9-py3-none-any.whl (25 kB)\n",
      "Collecting iopath>=0.1.7\n",
      "  Downloading iopath-0.1.9-py3-none-any.whl (27 kB)\n",
      "Collecting portalocker\n",
      "  Downloading portalocker-2.3.2-py2.py3-none-any.whl (15 kB)\n",
      "Requirement already satisfied: pywin32>=226 in c:\\users\\user001\\anaconda3\\envs\\tf24_gpu\\lib\\site-packages (from portalocker->iopath>=0.1.7->fvcore) (301)\n",
      "Requirement already satisfied: colorama in c:\\users\\user001\\anaconda3\\envs\\tf24_gpu\\lib\\site-packages (from tqdm->fvcore) (0.4.4)\n",
      "Building wheels for collected packages: fvcore\n",
      "  Building wheel for fvcore (setup.py): started\n",
      "  Building wheel for fvcore (setup.py): finished with status 'done'\n",
      "  Created wheel for fvcore: filename=fvcore-0.1.5.post20211023-py3-none-any.whl size=60943 sha256=42753d8cdca4fbfa88a9778fa988c6b6d87079267a29bb2950eb236df08a7d17\n",
      "  Stored in directory: c:\\users\\user001\\appdata\\local\\pip\\cache\\wheels\\2e\\af\\94\\f7fe3caa2a9b593e13e495d93c43c3245e3b01ee7b069010bc\n",
      "Successfully built fvcore\n",
      "Installing collected packages: portalocker, yacs, tabulate, iopath, fvcore\n",
      "Successfully installed fvcore-0.1.5.post20211023 iopath-0.1.9 portalocker-2.3.2 tabulate-0.8.9 yacs-0.1.8\n"
     ]
    },
    {
     "name": "stderr",
     "output_type": "stream",
     "text": [
      "WARNING: Ignoring invalid distribution -ensorflow-gpu (c:\\users\\user001\\appdata\\roaming\\python\\python38\\site-packages)\n",
      "WARNING: Ignoring invalid distribution -ensorflow-gpu (c:\\users\\user001\\appdata\\roaming\\python\\python38\\site-packages)\n",
      "WARNING: Ignoring invalid distribution -ensorflow-gpu (c:\\users\\user001\\appdata\\roaming\\python\\python38\\site-packages)\n",
      "WARNING: Ignoring invalid distribution -ensorflow-gpu (c:\\users\\user001\\appdata\\roaming\\python\\python38\\site-packages)\n",
      "WARNING: Ignoring invalid distribution -ensorflow-gpu (c:\\users\\user001\\appdata\\roaming\\python\\python38\\site-packages)\n",
      "WARNING: Ignoring invalid distribution -ensorflow-gpu (c:\\users\\user001\\appdata\\roaming\\python\\python38\\site-packages)\n"
     ]
    }
   ],
   "source": [
    "! pip install fvcore"
   ]
  },
  {
   "cell_type": "code",
   "execution_count": null,
   "id": "d60e9a45",
   "metadata": {},
   "outputs": [],
   "source": []
  }
 ],
 "metadata": {
  "kernelspec": {
   "display_name": "Python 3",
   "language": "python",
   "name": "python3"
  },
  "language_info": {
   "codemirror_mode": {
    "name": "ipython",
    "version": 3
   },
   "file_extension": ".py",
   "mimetype": "text/x-python",
   "name": "python",
   "nbconvert_exporter": "python",
   "pygments_lexer": "ipython3",
   "version": "3.8.11"
  }
 },
 "nbformat": 4,
 "nbformat_minor": 5
}
